{
  "nbformat": 4,
  "nbformat_minor": 0,
  "metadata": {
    "colab": {
      "provenance": [],
      "authorship_tag": "ABX9TyNDhSGT82lk/66OL7xGCOxe",
      "include_colab_link": true
    },
    "kernelspec": {
      "name": "python3",
      "display_name": "Python 3"
    },
    "language_info": {
      "name": "python"
    }
  },
  "cells": [
    {
      "cell_type": "markdown",
      "metadata": {
        "id": "view-in-github",
        "colab_type": "text"
      },
      "source": [
        "<a href=\"https://colab.research.google.com/github/Tulika072/python-full-stack-development/blob/main/python1.ipynb\" target=\"_parent\"><img src=\"https://colab.research.google.com/assets/colab-badge.svg\" alt=\"Open In Colab\"/></a>"
      ]
    },
    {
      "cell_type": "code",
      "execution_count": null,
      "metadata": {
        "colab": {
          "base_uri": "https://localhost:8080/"
        },
        "id": "gDZFYZwRO5ue",
        "outputId": "5e52c06f-1941-459c-cff3-1c00cac24c93"
      },
      "outputs": [
        {
          "output_type": "stream",
          "name": "stdout",
          "text": [
            "line1\tline2\tline3\n"
          ]
        }
      ],
      "source": [
        "print(\"line1\\tline2\\tline3\")"
      ]
    },
    {
      "cell_type": "code",
      "source": [
        "txt=\"i am tulika\"\n",
        "i=txt.split(\" \")\n",
        "print(i)"
      ],
      "metadata": {
        "colab": {
          "base_uri": "https://localhost:8080/"
        },
        "id": "oLLB_UT0PpaB",
        "outputId": "fcca4bdf-0108-4d78-e005-5626aaee8f39"
      },
      "execution_count": null,
      "outputs": [
        {
          "output_type": "stream",
          "name": "stdout",
          "text": [
            "['i', 'am', 'tulika']\n"
          ]
        }
      ]
    },
    {
      "cell_type": "code",
      "source": [
        "print(i[1])"
      ],
      "metadata": {
        "id": "Rd6FAQoBQOwn",
        "colab": {
          "base_uri": "https://localhost:8080/"
        },
        "outputId": "8edb5e14-bd9c-42b9-e80a-27581c90df7d"
      },
      "execution_count": null,
      "outputs": [
        {
          "output_type": "stream",
          "name": "stdout",
          "text": [
            "am\n"
          ]
        }
      ]
    },
    {
      "cell_type": "code",
      "source": [
        "x,y,z=map(int,input(\"enter numbers\").split())\n",
        "print(x+y+z)"
      ],
      "metadata": {
        "colab": {
          "base_uri": "https://localhost:8080/"
        },
        "id": "4MXNzEvTRuoH",
        "outputId": "49cc421d-3747-4319-ecbc-bc6e85c87187"
      },
      "execution_count": null,
      "outputs": [
        {
          "output_type": "stream",
          "name": "stdout",
          "text": [
            "enter numbers4 5 2\n",
            "11\n"
          ]
        }
      ]
    },
    {
      "cell_type": "code",
      "source": [
        "15+14.6"
      ],
      "metadata": {
        "colab": {
          "base_uri": "https://localhost:8080/"
        },
        "id": "rezaD7ZKT4Kg",
        "outputId": "b734637e-9b4e-4cf9-fd5e-88d2f17fe13b"
      },
      "execution_count": null,
      "outputs": [
        {
          "output_type": "execute_result",
          "data": {
            "text/plain": [
              "29.6"
            ]
          },
          "metadata": {},
          "execution_count": 7
        }
      ]
    },
    {
      "cell_type": "code",
      "source": [],
      "metadata": {
        "id": "5B39XSCqUA8q"
      },
      "execution_count": null,
      "outputs": []
    }
  ]
}